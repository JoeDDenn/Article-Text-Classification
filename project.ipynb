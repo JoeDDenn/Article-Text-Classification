{
 "cells": [
  {
   "cell_type": "code",
   "execution_count": 2,
   "id": "61699a5e",
   "metadata": {},
   "outputs": [
    {
     "name": "stderr",
     "output_type": "stream",
     "text": [
      "[nltk_data] Downloading package stopwords to\n",
      "[nltk_data]     C:\\Users\\ce\\AppData\\Roaming\\nltk_data...\n",
      "[nltk_data]   Package stopwords is already up-to-date!\n"
     ]
    }
   ],
   "source": [
    "import pandas as pd\n",
    "import numpy as np\n",
    "import nltk\n",
    "nltk.download('stopwords')\n",
    "from nltk.corpus import stopwords\n",
    "from nltk.stem.porter import PorterStemmer\n",
    "from sklearn.feature_extraction.text import CountVectorizer\n",
    "from sklearn.naive_bayes import MultinomialNB\n",
    "from sklearn.metrics import classification_report\n",
    "import english_words"
   ]
  },
  {
   "cell_type": "code",
   "execution_count": 3,
   "id": "fbaad70b",
   "metadata": {},
   "outputs": [],
   "source": [
    "train_df = pd.read_csv('train.csv')\n",
    "test_df = pd.read_csv('test.csv')"
   ]
  },
  {
   "cell_type": "code",
   "execution_count": 4,
   "id": "84a47507",
   "metadata": {},
   "outputs": [],
   "source": [
    "def preprocess_text(text):\n",
    "    ps = PorterStemmer()\n",
    "    stop_words = set(stopwords.words('english'))\n",
    "    text = text.lower()\n",
    "    text = ' '.join([word for word in text.split() if word not in stop_words])\n",
    "    text = ' '.join([ps.stem(word) for word in text.split()])\n",
    "    return text"
   ]
  },
  {
   "cell_type": "code",
   "execution_count": 5,
   "id": "1fcf8bc9",
   "metadata": {},
   "outputs": [],
   "source": [
    "train_df['Title'] = train_df['Title'].apply(preprocess_text)\n",
    "train_df['Description'] = train_df['Description'].apply(preprocess_text)\n",
    "\n",
    "test_df['Title'] = test_df['Title'].apply(preprocess_text)\n",
    "test_df['Description'] = test_df['Description'].apply(preprocess_text)"
   ]
  },
  {
   "cell_type": "code",
   "execution_count": 6,
   "id": "134b8238",
   "metadata": {},
   "outputs": [],
   "source": [
    "cv = CountVectorizer()\n",
    "X_train = cv.fit_transform(train_df['Title'] + ' ' + train_df['Description'])\n",
    "y_train = train_df['Class Index']\n",
    "X_test = cv.transform(test_df['Title'] + ' ' + test_df['Description'])\n",
    "y_test = test_df['Class Index']"
   ]
  },
  {
   "cell_type": "code",
   "execution_count": 7,
   "id": "8f84a4b0",
   "metadata": {},
   "outputs": [
    {
     "data": {
      "text/html": [
       "<style>#sk-container-id-1 {color: black;background-color: white;}#sk-container-id-1 pre{padding: 0;}#sk-container-id-1 div.sk-toggleable {background-color: white;}#sk-container-id-1 label.sk-toggleable__label {cursor: pointer;display: block;width: 100%;margin-bottom: 0;padding: 0.3em;box-sizing: border-box;text-align: center;}#sk-container-id-1 label.sk-toggleable__label-arrow:before {content: \"▸\";float: left;margin-right: 0.25em;color: #696969;}#sk-container-id-1 label.sk-toggleable__label-arrow:hover:before {color: black;}#sk-container-id-1 div.sk-estimator:hover label.sk-toggleable__label-arrow:before {color: black;}#sk-container-id-1 div.sk-toggleable__content {max-height: 0;max-width: 0;overflow: hidden;text-align: left;background-color: #f0f8ff;}#sk-container-id-1 div.sk-toggleable__content pre {margin: 0.2em;color: black;border-radius: 0.25em;background-color: #f0f8ff;}#sk-container-id-1 input.sk-toggleable__control:checked~div.sk-toggleable__content {max-height: 200px;max-width: 100%;overflow: auto;}#sk-container-id-1 input.sk-toggleable__control:checked~label.sk-toggleable__label-arrow:before {content: \"▾\";}#sk-container-id-1 div.sk-estimator input.sk-toggleable__control:checked~label.sk-toggleable__label {background-color: #d4ebff;}#sk-container-id-1 div.sk-label input.sk-toggleable__control:checked~label.sk-toggleable__label {background-color: #d4ebff;}#sk-container-id-1 input.sk-hidden--visually {border: 0;clip: rect(1px 1px 1px 1px);clip: rect(1px, 1px, 1px, 1px);height: 1px;margin: -1px;overflow: hidden;padding: 0;position: absolute;width: 1px;}#sk-container-id-1 div.sk-estimator {font-family: monospace;background-color: #f0f8ff;border: 1px dotted black;border-radius: 0.25em;box-sizing: border-box;margin-bottom: 0.5em;}#sk-container-id-1 div.sk-estimator:hover {background-color: #d4ebff;}#sk-container-id-1 div.sk-parallel-item::after {content: \"\";width: 100%;border-bottom: 1px solid gray;flex-grow: 1;}#sk-container-id-1 div.sk-label:hover label.sk-toggleable__label {background-color: #d4ebff;}#sk-container-id-1 div.sk-serial::before {content: \"\";position: absolute;border-left: 1px solid gray;box-sizing: border-box;top: 0;bottom: 0;left: 50%;z-index: 0;}#sk-container-id-1 div.sk-serial {display: flex;flex-direction: column;align-items: center;background-color: white;padding-right: 0.2em;padding-left: 0.2em;position: relative;}#sk-container-id-1 div.sk-item {position: relative;z-index: 1;}#sk-container-id-1 div.sk-parallel {display: flex;align-items: stretch;justify-content: center;background-color: white;position: relative;}#sk-container-id-1 div.sk-item::before, #sk-container-id-1 div.sk-parallel-item::before {content: \"\";position: absolute;border-left: 1px solid gray;box-sizing: border-box;top: 0;bottom: 0;left: 50%;z-index: -1;}#sk-container-id-1 div.sk-parallel-item {display: flex;flex-direction: column;z-index: 1;position: relative;background-color: white;}#sk-container-id-1 div.sk-parallel-item:first-child::after {align-self: flex-end;width: 50%;}#sk-container-id-1 div.sk-parallel-item:last-child::after {align-self: flex-start;width: 50%;}#sk-container-id-1 div.sk-parallel-item:only-child::after {width: 0;}#sk-container-id-1 div.sk-dashed-wrapped {border: 1px dashed gray;margin: 0 0.4em 0.5em 0.4em;box-sizing: border-box;padding-bottom: 0.4em;background-color: white;}#sk-container-id-1 div.sk-label label {font-family: monospace;font-weight: bold;display: inline-block;line-height: 1.2em;}#sk-container-id-1 div.sk-label-container {text-align: center;}#sk-container-id-1 div.sk-container {/* jupyter's `normalize.less` sets `[hidden] { display: none; }` but bootstrap.min.css set `[hidden] { display: none !important; }` so we also need the `!important` here to be able to override the default hidden behavior on the sphinx rendered scikit-learn.org. See: https://github.com/scikit-learn/scikit-learn/issues/21755 */display: inline-block !important;position: relative;}#sk-container-id-1 div.sk-text-repr-fallback {display: none;}</style><div id=\"sk-container-id-1\" class=\"sk-top-container\"><div class=\"sk-text-repr-fallback\"><pre>MultinomialNB()</pre><b>In a Jupyter environment, please rerun this cell to show the HTML representation or trust the notebook. <br />On GitHub, the HTML representation is unable to render, please try loading this page with nbviewer.org.</b></div><div class=\"sk-container\" hidden><div class=\"sk-item\"><div class=\"sk-estimator sk-toggleable\"><input class=\"sk-toggleable__control sk-hidden--visually\" id=\"sk-estimator-id-1\" type=\"checkbox\" checked><label for=\"sk-estimator-id-1\" class=\"sk-toggleable__label sk-toggleable__label-arrow\">MultinomialNB</label><div class=\"sk-toggleable__content\"><pre>MultinomialNB()</pre></div></div></div></div></div>"
      ],
      "text/plain": [
       "MultinomialNB()"
      ]
     },
     "execution_count": 7,
     "metadata": {},
     "output_type": "execute_result"
    }
   ],
   "source": [
    "nb_classifier = MultinomialNB()\n",
    "nb_classifier.fit(X_train, y_train)"
   ]
  },
  {
   "cell_type": "code",
   "execution_count": 8,
   "id": "a9c008b4",
   "metadata": {},
   "outputs": [
    {
     "name": "stdout",
     "output_type": "stream",
     "text": [
      "              precision    recall  f1-score   support\n",
      "\n",
      "           1       0.91      0.90      0.90      1900\n",
      "           2       0.95      0.98      0.97      1900\n",
      "           3       0.87      0.85      0.86      1900\n",
      "           4       0.87      0.88      0.88      1900\n",
      "\n",
      "    accuracy                           0.90      7600\n",
      "   macro avg       0.90      0.90      0.90      7600\n",
      "weighted avg       0.90      0.90      0.90      7600\n",
      "\n"
     ]
    }
   ],
   "source": [
    "y_pred = nb_classifier.predict(X_test)\n",
    "print(classification_report(y_pred=y_pred, y_true=y_test))"
   ]
  },
  {
   "cell_type": "code",
   "execution_count": 9,
   "id": "f1118f61",
   "metadata": {
    "scrolled": true
   },
   "outputs": [],
   "source": [
    "def predict(title, description):\n",
    "    if title == '' or description == '':\n",
    "        return 'invalid input'\n",
    "    else:\n",
    "        ps = PorterStemmer()\n",
    "        flag = False\n",
    "        user_title = title\n",
    "        user_description = description\n",
    "        user_description = user_description.lower()\n",
    "        user_description = user_description.split()\n",
    "        \n",
    "        #ensure that the user_title and user_description strings only contain valid English words\n",
    "        user_title = user_title.lower()\n",
    "        user_title = user_title.split()\n",
    "        stemmedTitle = ''\n",
    "        for word in user_title:\n",
    "            if word in english_words.get_english_words_set(['web2']):\n",
    "                stemmedTitle = stemmedTitle + ' ' + word\n",
    "            else:\n",
    "                word = ps.stem(word)\n",
    "                if word in english_words.get_english_words_set(['web2']):\n",
    "                    stemmedTitle = stemmedTitle + ' ' + word\n",
    "                else:\n",
    "                    stemmedTitle = stemmedTitle + ''\n",
    "        user_title = stemmedTitle+\" \"\n",
    "        \n",
    "        stemmedDescription = ''\n",
    "        for word in user_description:\n",
    "            if word in english_words.get_english_words_set(['web2']):\n",
    "                stemmedDescription = stemmedDescription + ' ' + word\n",
    "            else:\n",
    "                word = ps.stem(word)\n",
    "                if word in english_words.get_english_words_set(['web2']):\n",
    "                    stemmedDescription = stemmedDescription + ' ' + word\n",
    "                else:\n",
    "                    stemmedDescription = stemmedDescription + '' \n",
    "        user_description = stemmedDescription+\" \"\n",
    "        \n",
    "        \n",
    "        stemmed_title = ps.stem(user_title)  # get the stemmed version of the user_title string\n",
    "        title_words = list(filter(None, stemmed_title.split()))  # split the stemmed string into a list of words and remove any empty strings\n",
    "        valid_title_words = [token in english_words.get_english_words_set(['web2']) for token in title_words]  # check if each word in the list is a valid English word from the web2 dictionary\n",
    "        if all(valid_title_words):  # check if all the words in the list are valid English words\n",
    "            # if all the words in the user_title string are valid English words, set the user_title variable and flag to True\n",
    "            user_title = user_title\n",
    "            flag = True\n",
    "        else:\n",
    "            # if not, set the user_title variable and flag to False and return 'invalid title'\n",
    "            user_title = ''\n",
    "            flag = False\n",
    "            return 'invalid title'\n",
    "        stemmed_description = ps.stem(user_description)  # stem the user_description string\n",
    "        description_words = list(filter(None, stemmed_description.split()))  # split the stemmed string into a list of words and remove any empty strings\n",
    "        valid_description_words = [token in english_words.get_english_words_set(['web2']) for token in description_words]  # check if each word in the list is a valid English word from the web2 dictionary\n",
    "        if all(valid_description_words):  # check if all the words in the list are valid English words\n",
    "            # if all the words in the user_description string are valid English words, set the user_description variable and flag to True\n",
    "            user_description = user_description\n",
    "            flag = True\n",
    "        else:\n",
    "            # if not, set the user_description variable and flag to False and return 'invalid description'\n",
    "            user_description = ''\n",
    "            flag = False\n",
    "            return 'invalid description'\n",
    "        if flag == True:\n",
    "            user_article = {'title': str(user_title), 'description': str(user_description)}\n",
    "            user_article = pd.DataFrame(user_article, index=[0])\n",
    "            user_article['title'] = user_article['title'].apply(preprocess_text)\n",
    "            user_article['description'] = user_article['description'].apply(preprocess_text)\n",
    "            user_input = cv.transform(user_article['title'] + ' ' + user_article['description'])\n",
    "            y_pred = nb_classifier.predict(user_input.toarray())\n",
    "            if y_pred == 1:\n",
    "                return 'World and Politics'\n",
    "            elif y_pred == 2:\n",
    "                return 'Sports'\n",
    "            elif y_pred == 3:\n",
    "                return 'Business'\n",
    "            elif y_pred == 4:\n",
    "                return 'Technology'\n",
    "            else:\n",
    "                return 'Unknown Topic'"
   ]
  },
  {
   "cell_type": "code",
   "execution_count": 10,
   "id": "bb8cf652",
   "metadata": {},
   "outputs": [
    {
     "name": "stderr",
     "output_type": "stream",
     "text": [
      "INFO:     Started server process [1200]\n",
      "INFO:     Waiting for application startup.\n",
      "INFO:     Application startup complete.\n",
      "INFO:     Uvicorn running on http://127.0.0.1:8000 (Press CTRL+C to quit)\n"
     ]
    },
    {
     "name": "stdout",
     "output_type": "stream",
     "text": [
      "INFO:     127.0.0.1:51385 - \"OPTIONS /article HTTP/1.1\" 200 OK\n",
      "INFO:     127.0.0.1:51385 - \"POST /article HTTP/1.1\" 200 OK\n"
     ]
    }
   ],
   "source": [
    "#simple fastapi server to run the model\n",
    "import nest_asyncio\n",
    "import uvicorn\n",
    "from fastapi import FastAPI\n",
    "import pydantic\n",
    "from fastapi.middleware.cors import CORSMiddleware\n",
    "\n",
    "app = FastAPI()\n",
    "\n",
    "class ArticleRequest(pydantic.BaseModel):\n",
    "    title: str\n",
    "    description: str\n",
    "\n",
    "# origins = [\"http://localhost:5500\"]\n",
    "\n",
    "app.add_middleware(\n",
    "    CORSMiddleware,\n",
    "    allow_origins=[\"*\"],\n",
    "    allow_credentials=True,\n",
    "    allow_methods=[\"*\"],\n",
    "    allow_headers=[\"*\"],\n",
    ")\n",
    "\n",
    "@app.post('/article')\n",
    "async def article(items: ArticleRequest):\n",
    "    return {'topic': predict(items.title, items.description)}\n",
    "\n",
    "\n",
    "if __name__ == \"__main__\":\n",
    "    nest_asyncio.apply()\n",
    "    uvicorn.run(app)"
   ]
  }
 ],
 "metadata": {
  "kernelspec": {
   "display_name": "Python 3 (ipykernel)",
   "language": "python",
   "name": "python3"
  },
  "language_info": {
   "codemirror_mode": {
    "name": "ipython",
    "version": 3
   },
   "file_extension": ".py",
   "mimetype": "text/x-python",
   "name": "python",
   "nbconvert_exporter": "python",
   "pygments_lexer": "ipython3",
   "version": "3.11.2"
  }
 },
 "nbformat": 4,
 "nbformat_minor": 5
}
