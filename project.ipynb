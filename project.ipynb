{
 "cells": [
  {
   "cell_type": "code",
   "execution_count": 1,
   "id": "61699a5e",
   "metadata": {},
   "outputs": [
    {
     "name": "stderr",
     "output_type": "stream",
     "text": [
      "[nltk_data] Downloading package stopwords to C:\\Users\\yousef\n",
      "[nltk_data]     salem\\AppData\\Roaming\\nltk_data...\n",
      "[nltk_data]   Package stopwords is already up-to-date!\n"
     ]
    }
   ],
   "source": [
    "import pandas as pd\n",
    "import numpy as np\n",
    "import nltk\n",
    "nltk.download('stopwords')\n",
    "from nltk.corpus import stopwords\n",
    "from nltk.stem.porter import PorterStemmer\n",
    "from sklearn.feature_extraction.text import CountVectorizer\n",
    "from sklearn.naive_bayes import MultinomialNB\n",
    "from sklearn.metrics import classification_report\n",
    "import english_words"
   ]
  },
  {
   "cell_type": "code",
   "execution_count": 2,
   "id": "fbaad70b",
   "metadata": {},
   "outputs": [],
   "source": [
    "train_df = pd.read_csv('train.csv')\n",
    "test_df = pd.read_csv('test.csv')"
   ]
  },
  {
   "cell_type": "code",
   "execution_count": 3,
   "id": "84a47507",
   "metadata": {},
   "outputs": [],
   "source": [
    "\n",
    "def preprocess_text(text):\n",
    "    ps = PorterStemmer()\n",
    "    stop_words = set(stopwords.words('english'))\n",
    "    text = text.lower()\n",
    "    text = ' '.join([word for word in text.split() if word not in stop_words])\n",
    "    text = ' '.join([ps.stem(word) for word in text.split()])\n",
    "    return text"
   ]
  },
  {
   "cell_type": "code",
   "execution_count": 4,
   "id": "1fcf8bc9",
   "metadata": {},
   "outputs": [],
   "source": [
    "train_df['Title'] = train_df['Title'].apply(preprocess_text)\n",
    "train_df['Description'] = train_df['Description'].apply(preprocess_text)\n",
    "\n",
    "\n",
    "test_df['Title'] = test_df['Title'].apply(preprocess_text)\n",
    "test_df['Description'] = test_df['Description'].apply(preprocess_text)"
   ]
  },
  {
   "cell_type": "code",
   "execution_count": 5,
   "id": "134b8238",
   "metadata": {},
   "outputs": [],
   "source": [
    "cv = CountVectorizer()\n",
    "X_train = cv.fit_transform(train_df['Title'] + ' ' + train_df['Description'])\n",
    "y_train = train_df['Class Index']\n",
    "X_test = cv.transform(test_df['Title'] + ' ' + test_df['Description'])\n",
    "y_test = test_df['Class Index']"
   ]
  },
  {
   "cell_type": "code",
   "execution_count": 6,
   "id": "8f84a4b0",
   "metadata": {},
   "outputs": [
    {
     "data": {
      "text/plain": [
       "MultinomialNB()"
      ]
     },
     "execution_count": 6,
     "metadata": {},
     "output_type": "execute_result"
    }
   ],
   "source": [
    "nb_classifier = MultinomialNB()\n",
    "nb_classifier.fit(X_train, y_train)"
   ]
  },
  {
   "cell_type": "code",
   "execution_count": 7,
   "id": "a9c008b4",
   "metadata": {},
   "outputs": [
    {
     "name": "stdout",
     "output_type": "stream",
     "text": [
      "              precision    recall  f1-score   support\n",
      "\n",
      "           1       0.91      0.90      0.90      1900\n",
      "           2       0.95      0.98      0.97      1900\n",
      "           3       0.87      0.85      0.86      1900\n",
      "           4       0.87      0.88      0.88      1900\n",
      "\n",
      "    accuracy                           0.90      7600\n",
      "   macro avg       0.90      0.90      0.90      7600\n",
      "weighted avg       0.90      0.90      0.90      7600\n",
      "\n"
     ]
    }
   ],
   "source": [
    "y_pred = nb_classifier.predict(X_test)\n",
    "\n",
    "print(classification_report(y_pred=y_pred, y_true=y_test))"
   ]
  },
  {
   "cell_type": "code",
   "execution_count": 12,
   "id": "f1118f61",
   "metadata": {
    "scrolled": true
   },
   "outputs": [
    {
     "name": "stdout",
     "output_type": "stream",
     "text": [
      "enter the title of the article: hello world \n",
      "enter the description of the article: hello world \n",
      "tech\n"
     ]
    }
   ],
   "source": [
    "ps = PorterStemmer()\n",
    "flag = False\n",
    "user_title = input(\"enter the title of the article: \")\n",
    "user_description = input('enter the description of the article: ')\n",
    "if all([token in english_words.get_english_words_set(['web2']) for token in list(filter( None,ps.stem(user_title).split()))]):\n",
    "    user_title = user_title\n",
    "    flag = True\n",
    "else:\n",
    "    user_title = ''\n",
    "    print('invalid title')\n",
    "    flag = False\n",
    "if all([token in english_words.get_english_words_set(['web2']) for token in list(filter(None, ps.stem(user_description).split()))]):\n",
    "    user_description = user_description\n",
    "    flag = True\n",
    "else:\n",
    "    user_description = ''\n",
    "    print('invalid description') \n",
    "    flag = False\n",
    "if flag == True:\n",
    "    user_article = {'title': str(user_title), 'description': str(user_description)}\n",
    "    user_article = pd.DataFrame(user_article, index=[0])\n",
    "    user_article['title'] = user_article['title'].apply(preprocess_text)\n",
    "    user_article['description'] = user_article['description'].apply(preprocess_text)\n",
    "    user_input = cv.transform(user_article['title'] + ' ' + user_article['description'])\n",
    "    y_pred = nb_classifier.predict(user_input.toarray())\n",
    "    if y_pred == 1:\n",
    "        print('world')\n",
    "    elif y_pred == 2:\n",
    "        print('sports')\n",
    "    elif y_pred == 3:\n",
    "        print('business')\n",
    "    elif y_pred == 4:\n",
    "        print('tech')\n",
    "    else:\n",
    "        print('unknown')"
   ]
  },
  {
   "cell_type": "code",
   "execution_count": null,
   "id": "1472e508",
   "metadata": {},
   "outputs": [],
   "source": []
  },
  {
   "cell_type": "code",
   "execution_count": null,
   "id": "0bd0ec48",
   "metadata": {},
   "outputs": [],
   "source": []
  }
 ],
 "metadata": {
  "kernelspec": {
   "display_name": "Python 3 (ipykernel)",
   "language": "python",
   "name": "python3"
  },
  "language_info": {
   "codemirror_mode": {
    "name": "ipython",
    "version": 3
   },
   "file_extension": ".py",
   "mimetype": "text/x-python",
   "name": "python",
   "nbconvert_exporter": "python",
   "pygments_lexer": "ipython3",
   "version": "3.9.7"
  }
 },
 "nbformat": 4,
 "nbformat_minor": 5
}
